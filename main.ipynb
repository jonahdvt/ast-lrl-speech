{
 "cells": [
  {
   "cell_type": "code",
   "execution_count": 15,
   "metadata": {},
   "outputs": [],
   "source": [
    "# Installs and imports \n",
    "\n",
    "# !pip install transformers torch\n",
    "# !pip install bs4\n",
    "# !pip install tf-keras\n",
    "# !pip install pydub\n",
    "\n",
    "import matplotlib.pyplot as plt\n",
    "import numpy as np\n",
    "from transformers import pipeline\n",
    "import tensorflow_datasets as tfds\n",
    "import torch\n",
    "\n",
    "\n",
    "\n",
    "import requests\n",
    "from bs4 import BeautifulSoup\n",
    "import time\n",
    "import json\n",
    "from tqdm import tqdm\n",
    "import tarfile\n",
    "import os\n",
    "import json"
   ]
  },
  {
   "cell_type": "markdown",
   "metadata": {},
   "source": [
    "SETUP"
   ]
  },
  {
   "cell_type": "code",
   "execution_count": 16,
   "metadata": {},
   "outputs": [],
   "source": [
    "base_url = \"https://huggingface.co/datasets/google/fleurs-r/resolve/main/\"\n",
    "LANG_CODE = \"fr_fr\"  \n",
    "\n",
    "def get_folder_names(language_code=LANG_CODE):\n",
    "    return [\n",
    "        f\"data/{language_code}/audio/dev.tar.gz\",\n",
    "        f\"data/{language_code}/audio/test.tar.gz\",\n",
    "        f\"data/{language_code}/audio/train.tar.gz\"\n",
    "    ]\n",
    "\n",
    "def get_fleurs_data(file_path, language_code=LANG_CODE):  \n",
    "    output_dir = f\"fleurs_{language_code}_audio\"  \n",
    "    os.makedirs(output_dir, exist_ok=True)  # This will create a single directory for all extracted files\n",
    "\n",
    "    file_url = base_url + file_path  # Correct URL format\n",
    "    local_filename = os.path.basename(file_path)  \n",
    "    local_path = os.path.join(output_dir, local_filename)\n",
    "\n",
    "    print(f\"Downloading {file_url}...\")\n",
    "    response = requests.get(file_url, stream=True)\n",
    "\n",
    "    if response.status_code != 200:\n",
    "        print(f\"Failed to download {file_url}, Status Code: {response.status_code}\")\n",
    "        return  \n",
    "\n",
    "    with open(local_path, \"wb\") as f:\n",
    "        for chunk in response.iter_content(chunk_size=8192):\n",
    "            f.write(chunk)\n",
    "\n",
    "    # Extract the tar.gz file in the same directory\n",
    "    with tarfile.open(local_path, \"r:gz\") as tar:  \n",
    "        tar.extractall(output_dir)  # All files go into the same output_dir\n",
    "\n",
    "    print(f\"Extracted: {local_filename}\")\n",
    "    os.remove(local_path)  # Remove the tar.gz file after extraction\n",
    "\n"
   ]
  },
  {
   "cell_type": "code",
   "execution_count": null,
   "metadata": {},
   "outputs": [],
   "source": [
    "french_file_names = get_folder_names(LANG_CODE)\n",
    "for file_path in french_file_names:\n",
    "    get_fleurs_data(file_path, LANG_CODE)"
   ]
  },
  {
   "cell_type": "code",
   "execution_count": 18,
   "metadata": {},
   "outputs": [
    {
     "name": "stderr",
     "output_type": "stream",
     "text": [
      "Device set to use mps:0\n"
     ]
    }
   ],
   "source": [
    "def get_whisper(model='openai/whisper-large-v3'):\n",
    "    whisper = pipeline(\"automatic-speech-recognition\", model, torch_dtype=torch.float16, device=\"mps:0\")\n",
    "    return whisper\n",
    "\n",
    "whisper = get_whisper(\"openai/whisper-small\")  # defaulting to small for now"
   ]
  },
  {
   "cell_type": "markdown",
   "metadata": {},
   "source": [
    "S2TT Task"
   ]
  },
  {
   "cell_type": "code",
   "execution_count": 24,
   "metadata": {},
   "outputs": [],
   "source": [
    "def get_transcription(audio_file):\n",
    "    transcription = whisper(audio_file, return_timestamps=True)\n",
    "    return transcription['text']\n",
    "\n",
    "\n",
    "\n",
    "def parse_to_whisper(ds, langage = \"fr\"):\n",
    "    with open(f\"{language}_whisper_out.txt\", \"a\") as output_file:\n",
    "        for example in ds:\n",
    "            tr = get_fleurs_data_fr(example)\n",
    "            output_file.write(tr + \"\\n\")\n",
    "\n",
    "\n",
    "\n",
    "def get_translation(text, source_language, target_language):\n",
    "    # Get the translation from the sample text\n",
    "    \n",
    "    url = f\"https://translate.google.com/m?tl={target_language}&sl={source_language}&q={text}\"\n",
    "\n",
    "    response = requests.get(url)\n",
    "    if response.status_code != 200:\n",
    "        raise Exception(f\"Request failed with status code {response.status_code}\")\n",
    "\n",
    "    # Parse the page content\n",
    "    soup = BeautifulSoup(response.text, 'html.parser')\n",
    "\n",
    "    # Extract the translated text from the page\n",
    "    translation = soup.find('div', class_='result-container').text\n",
    "\n",
    "    return translation\n",
    "\n",
    "\n",
    "def parser_txt(source_language=\"fr\", target_language=\"en\", ds=None):                    # easier to follow the output but not best format\n",
    "    output_dir = f\"fleurs_{LANG_CODE}_audio/{ds}\"                                       # path to directory\n",
    "    with open(f\"{source_language}_whisper_out.txt\", \"a\") as output_file:\n",
    "        for file_name in os.listdir(output_dir):  # List files in the directory\n",
    "            if file_name.endswith(\".wav\"):  # Assuming audio files are .wav (adjust if needed)\n",
    "                file_path = os.path.join(output_dir, file_name)  # Full path to the file\n",
    "                transcript = get_transcription(audio_file=file_path)  # Pass the full path\n",
    "                translation = get_translation(transcript, source_language, target_language)\n",
    "                output_file.write(file_name + \": Transcript = \" + transcript + \"    Translation = \" + translation + \"\\n\")\n",
    "\n",
    "\n",
    "def parser_json(source_language=\"fr\", target_language=\"en\", ds=None):\n",
    "    output_dir = f\"fleurs_{LANG_CODE}_audio/{ds}\"  # Path to directory\n",
    "    output_file = f\"{source_language}_whisper_out.json\"\n",
    "\n",
    "    results = []  # Store results as a list of dictionaries\n",
    "\n",
    "    for file_name in os.listdir(output_dir):  # List files in the directory\n",
    "        if file_name.endswith(\".wav\"):  # Adjust if needed for different file types\n",
    "            file_path = os.path.join(output_dir, file_name)  # Full path to the file\n",
    "            transcript = get_transcription(audio_file=file_path)  # Get transcript\n",
    "            translation = get_translation(transcript, source_language, target_language)  # Get translation\n",
    "            \n",
    "            # Store result in a dictionary\n",
    "            results.append({\n",
    "                \"file_name\": file_name,\n",
    "                \"transcript\": transcript,\n",
    "                \"translation\": translation\n",
    "            })\n",
    "\n",
    "    # Write results to a JSON file\n",
    "    with open(output_file, \"w\", encoding=\"utf-8\") as json_file:\n",
    "        json.dump(results, json_file, ensure_ascii=False, indent=4)\n",
    "\n"
   ]
  },
  {
   "cell_type": "code",
   "execution_count": null,
   "metadata": {},
   "outputs": [],
   "source": [
    "dtt = [\"dev\", \"test\", \"train\"]\n",
    "for i in dtt: \n",
    "    parser_json(ds=dtt[i])\n",
    "\n"
   ]
  },
  {
   "cell_type": "markdown",
   "metadata": {},
   "source": [
    "BLEU SCORE"
   ]
  },
  {
   "cell_type": "code",
   "execution_count": null,
   "metadata": {},
   "outputs": [],
   "source": []
  },
  {
   "cell_type": "markdown",
   "metadata": {},
   "source": [
    "TODO: \n",
    "- separate tasks - do all transcription first, then translate\n",
    "- set up BLEU and eval using https://github.com/mjpost/sacrebleu\n",
    "- if time allows, expand on languages in doc "
   ]
  },
  {
   "cell_type": "markdown",
   "metadata": {},
   "source": []
  }
 ],
 "metadata": {
  "kernelspec": {
   "display_name": "base",
   "language": "python",
   "name": "python3"
  },
  "language_info": {
   "codemirror_mode": {
    "name": "ipython",
    "version": 3
   },
   "file_extension": ".py",
   "mimetype": "text/x-python",
   "name": "python",
   "nbconvert_exporter": "python",
   "pygments_lexer": "ipython3",
   "version": "3.11.1"
  }
 },
 "nbformat": 4,
 "nbformat_minor": 2
}
